{
 "cells": [
  {
   "cell_type": "markdown",
   "id": "a19910f2-ad7a-4487-a21c-0fb5e5d3cb4b",
   "metadata": {},
   "source": [
    "### IMPORTING LIBRARIES"
   ]
  },
  {
   "cell_type": "code",
   "execution_count": 24,
   "id": "03859ec5-2895-493f-8a46-c17818e76b10",
   "metadata": {},
   "outputs": [],
   "source": [
    "import os\n",
    "from datetime import datetime, timedelta, date\n",
    "\n",
    "import pandas as pd\n",
    "import pandas_gbq\n",
    "import pyarrow\n",
    "import geopandas as gpd\n",
    "import folium\n",
    "import yaml\n",
    "import wget\n",
    "import zipfile\n",
    "\n",
    "from google.cloud import bigquery\n",
    "from google.oauth2 import service_account\n"
   ]
  },
  {
   "cell_type": "markdown",
   "id": "eba69d0f-7791-4576-92ab-55888a45cfdd",
   "metadata": {},
   "source": [
    "### SHP files download"
   ]
  },
  {
   "cell_type": "code",
   "execution_count": 8,
   "id": "15aa4a03-1589-4d2b-b793-f0deaef89e33",
   "metadata": {},
   "outputs": [],
   "source": [
    "voivodships = 'https://www.gis-support.pl/downloads/2022/wojewodztwa.zip?_ga=2.264760332.262421511.1673644978-156643027.1672997767'\n",
    "registration_units = 'https://www.gis-support.pl/downloads/2022/jednostki_ewidencyjne.zip?_ga=2.195986735.262421511.1673644978-156643027.1672997767'"
   ]
  },
  {
   "cell_type": "code",
   "execution_count": 9,
   "id": "705ff1f4-5b2d-400d-9914-6de0c6a83865",
   "metadata": {},
   "outputs": [
    {
     "data": {
      "text/plain": [
       "'./POLYGON_SHAPES/cadastral (1).zip'"
      ]
     },
     "execution_count": 9,
     "metadata": {},
     "output_type": "execute_result"
    }
   ],
   "source": [
    "os.makedirs('./POLYGON_SHAPES', exist_ok=True)\n",
    "wget.download(voivodships, './POLYGON_SHAPES/voivo.zip')\n",
    "wget.download(registration_units, './POLYGON_SHAPES/cadastral.zip')"
   ]
  },
  {
   "cell_type": "code",
   "execution_count": 10,
   "id": "c52092d4-99f6-469c-8842-51d8dcb990d5",
   "metadata": {},
   "outputs": [],
   "source": [
    "with zipfile.ZipFile('./POLYGON_SHAPES/voivo.zip', 'r') as zip_ref:\n",
    "    zip_ref.extractall('./POLYGON_SHAPES/voivo')\n",
    "with zipfile.ZipFile('./POLYGON_SHAPES/cadastral.zip', 'r') as zip_ref:\n",
    "    zip_ref.extractall('./POLYGON_SHAPES/cadastral')"
   ]
  },
  {
   "cell_type": "markdown",
   "id": "9032989b-1b62-4211-a004-f77eedfad50c",
   "metadata": {},
   "source": [
    "### Map importing:"
   ]
  },
  {
   "cell_type": "markdown",
   "id": "9ee6ed9b-8dc7-4d89-bc79-d31df0219fcf",
   "metadata": {
    "tags": []
   },
   "source": [
    "#### Registration units"
   ]
  },
  {
   "cell_type": "code",
   "execution_count": 25,
   "id": "628a8fb1-4e86-448a-8917-4ba0d3759ab4",
   "metadata": {},
   "outputs": [
    {
     "data": {
      "text/plain": [
       "(3163, 2)"
      ]
     },
     "execution_count": 25,
     "metadata": {},
     "output_type": "execute_result"
    }
   ],
   "source": [
    "map_cadastral = gpd.read_file('./POLYGON_SHAPES/cadastral/jednostki_ewidencyjne.shp')\n",
    "map_cadastral = map_cadastral[['JPT_KOD_JE', 'geometry']]\n",
    "map_cadastral.shape"
   ]
  },
  {
   "cell_type": "markdown",
   "id": "c55de0f8-960d-4eb8-a8e0-b56eb6531e37",
   "metadata": {},
   "source": [
    "#### Voivodships"
   ]
  },
  {
   "cell_type": "code",
   "execution_count": 12,
   "id": "befaa8ac-55de-40f0-8240-38dc4f3375ae",
   "metadata": {},
   "outputs": [
    {
     "data": {
      "text/plain": [
       "(16, 3)"
      ]
     },
     "execution_count": 12,
     "metadata": {},
     "output_type": "execute_result"
    }
   ],
   "source": [
    "map_voivo = gpd.read_file('./POLYGON_SHAPES/voivo/wojewodztwa.shp')\n",
    "\n",
    "map_voivo = map_voivo[['JPT_KOD_JE', 'geometry']]\n",
    "\n",
    "map_voivo['woj'] = ['śląskie','opolskie','świętokrzyskie',\n",
    "       'pomorskie','podlaskie','zachodniopomorskie',\n",
    "       'dolnośląskie','wielkopolskie','podkarpackie',\n",
    "       'małopolskie','warmińsko-mazurskie','łódzkie',\n",
    "       'mazowieckie','kujawsko-pomorskie','lubelskie','lubuskie']\n",
    "\n",
    "WOJ = map_voivo[['JPT_KOD_JE','woj']]\n",
    "\n",
    "map_voivo.shape"
   ]
  },
  {
   "cell_type": "markdown",
   "id": "a0d3aefd-894b-4c85-ad59-4c52a5e80a1a",
   "metadata": {},
   "source": [
    "### Connecting to BIGQUERY"
   ]
  },
  {
   "cell_type": "markdown",
   "id": "fca731e5-0652-4120-809d-4b662a07632c",
   "metadata": {},
   "source": [
    "#### Take variables from notebook.yaml file"
   ]
  },
  {
   "cell_type": "code",
   "execution_count": 13,
   "id": "ed808179-ee5c-4f37-b3c6-6243a3b6c7be",
   "metadata": {},
   "outputs": [],
   "source": [
    "with open('./configuration_files/config.yaml', 'r') as f:\n",
    "    config = yaml.safe_load(f)\n",
    "\n",
    "PROJECT_ID = config['PROJECT_ID']\n",
    "DATASET_NAME = config['DATASET_NAME']\n",
    "TABLE_PERMISSIONS = config['TABLE_PERMISSIONS']\n",
    "TABLE_AGGREGATES = config['TABLE_AGGREGATES']\n",
    "JSON_KEY_BQ = config['JSON_KEY_BQ']\n",
    "PERIOD = 'last_3_m' # 'last_2_m' 'last_1_m'"
   ]
  },
  {
   "cell_type": "markdown",
   "id": "ba8f8719-c56a-4724-bfb5-536aef5936d3",
   "metadata": {},
   "source": [
    "#### Or assign here"
   ]
  },
  {
   "cell_type": "code",
   "execution_count": 14,
   "id": "95656a6d-88d3-439b-aeb0-564ae12e3e62",
   "metadata": {},
   "outputs": [],
   "source": [
    "key_path = f\"configuration_files/{JSON_KEY_BQ}\"\n",
    "\n",
    "credentials = service_account.Credentials.from_service_account_file(\n",
    "    key_path, scopes=[\"https://www.googleapis.com/auth/cloud-platform\"],\n",
    ")\n",
    "\n",
    "client = bigquery.Client(credentials=credentials, project=credentials.project_id,)"
   ]
  },
  {
   "cell_type": "markdown",
   "id": "b80e1a29-549e-464c-a4c9-a8ca8cf4f245",
   "metadata": {},
   "source": [
    "## NUMBER OF PERMITS FOR VOIVODESHIP LAST 3 MONTHS"
   ]
  },
  {
   "cell_type": "code",
   "execution_count": 15,
   "id": "41864779-0563-4677-9fd8-904f2e9be3a3",
   "metadata": {},
   "outputs": [],
   "source": [
    "QUERY = f\"\"\" \n",
    "SELECT \n",
    "    *\n",
    "FROM \n",
    "    `{PROJECT_ID}.{DATASET_NAME}.{TABLE_AGGREGATES}` \n",
    "WHERE\n",
    "    length(unit_id) = 2\n",
    "AND\n",
    "    STRING(injection_date) LIKE '{date.today().strftime(\"%Y-%m\")}%'\n",
    ";\n",
    "\"\"\"\n",
    "\n",
    "perm_count = pandas_gbq.read_gbq(QUERY,credentials=credentials, progress_bar_type=None)\n",
    "\n",
    "perm_count = perm_count[[col for col in perm_count.columns if PERIOD in col]+['unit_id']]\n",
    "perm_count = perm_count.groupby(['unit_id']).sum()\n",
    "perm_count = perm_count.sum(axis=1)\n",
    "\n",
    "perm_count = perm_count.reset_index().rename(columns={0:'count'})"
   ]
  },
  {
   "cell_type": "markdown",
   "id": "fe5c6cde-6a9c-4c37-b376-f8702c13efae",
   "metadata": {
    "tags": []
   },
   "source": [
    "### Changed do markdown\n",
    "mapa = folium.Map([52, 19], zoom_start=6)\n",
    "folium.Choropleth(geo_data=map_voivo, # df with geographical data of areas\n",
    "                  data=perm_count, # df with the data to show\n",
    "                  columns=['unit_id', 'count'], # key column, value column\n",
    "                  key_on='feature.properties.JPT_KOD_JE', # df key \n",
    "                  fill_color='YlOrRd', \n",
    "                  nan_fill_color=\"White\",\n",
    "                  fill_opacity=0.7,\n",
    "                  line_opacity=0.2,\n",
    "                  legend_name=\"Number of permissions\").add_to(mapa)\n",
    " \n",
    "# saving created map into HTML file\n",
    "os.makedirs('./OPENSTREETMAP_HTML', exist_ok=True)\n",
    "mapa.save(outfile = f'OPENSTREETMAP_HTML/voivodships_{PERIOD}.html')\n",
    " \n",
    "# Show map\n",
    "mapa"
   ]
  },
  {
   "cell_type": "markdown",
   "id": "b3cee3e2-0bfe-4d13-9de7-d25e90ec882e",
   "metadata": {},
   "source": [
    "![img](https://i.ibb.co/rmfxXz7/img-voivo.png)"
   ]
  },
  {
   "cell_type": "markdown",
   "id": "598d3751-a93e-46f3-a0ce-4d9150d4a776",
   "metadata": {},
   "source": [
    "## NUMBER OF PERMITS FOR REGISTRATION UNITS LAST 3 MONTHS"
   ]
  },
  {
   "cell_type": "code",
   "execution_count": 18,
   "id": "62b3b691-9abc-4753-89cc-95bc54501bf9",
   "metadata": {},
   "outputs": [],
   "source": [
    "QUERY = f\"\"\" \n",
    "SELECT \n",
    "    *\n",
    "FROM \n",
    "    `{PROJECT_ID}.{DATASET_NAME}.{TABLE_AGGREGATES}` \n",
    "WHERE\n",
    "    length(unit_id) = 8\n",
    "AND\n",
    "    STRING(injection_date) LIKE '{date.today().strftime(\"%Y-%m\")}%'\n",
    ";\n",
    "\"\"\"\n",
    "\n",
    "perm_count = pandas_gbq.read_gbq(QUERY,credentials=credentials, progress_bar_type=None)\n",
    "\n",
    "perm_count = perm_count[[col for col in perm_count.columns if PERIOD in col]+['unit_id']]\n",
    "perm_count = perm_count.groupby(['unit_id']).sum()\n",
    "perm_count = perm_count.sum(axis=1)\n",
    "\n",
    "perm_count = perm_count.reset_index().rename(columns={0:'count'})"
   ]
  },
  {
   "cell_type": "markdown",
   "id": "d6a67ed4-4c80-472f-8e58-d2293378879c",
   "metadata": {},
   "source": [
    "#### BEFORE MAP GENERATION SIMPLIFY SHAPES TO USE LESS MEMORY"
   ]
  },
  {
   "cell_type": "code",
   "execution_count": 19,
   "id": "3b81c4af-051c-4fc3-bd93-e2576fa98461",
   "metadata": {},
   "outputs": [],
   "source": [
    "map_cadastral.geometry = map_cadastral.geometry.simplify(1) # smaller value = more accurate"
   ]
  },
  {
   "cell_type": "markdown",
   "id": "27b95c27-2b53-4a6d-9021-7565df9568c4",
   "metadata": {},
   "source": [
    "### Because of large file changed to markdown\n",
    "\n",
    "mapa = folium.Map([52, 19], zoom_start=6)\n",
    "folium.Choropleth(geo_data=map_cadastral, # df with geographical data of areas\n",
    "                  data=perm_count, # df with the data to show\n",
    "                  columns=['unit_id', 'count'], # key column, value column\n",
    "                  key_on='feature.properties.JPT_KOD_JE', # df key  \n",
    "                  fill_color='YlOrRd', \n",
    "                  nan_fill_color=\"White\",\n",
    "                  fill_opacity=0.7,\n",
    "                  line_opacity=0.2,\n",
    "                  legend_name=\"Number of permissions\").add_to(mapa)\n",
    " \n",
    "# saving created map into HTML file\n",
    "mapa.save(outfile = f'OPENSTREETMAP_HTML/cadastral_units{PERIOD}.html')\n",
    " \n",
    "# Show map\n",
    "mapa"
   ]
  },
  {
   "cell_type": "markdown",
   "id": "30405ca5-7273-4e20-8ae7-6c833f4ad677",
   "metadata": {},
   "source": [
    "![IMG](https://i.ibb.co/fnWT8hs/img-cadastral.png)"
   ]
  }
 ],
 "metadata": {
  "kernelspec": {
   "display_name": "Python 3 (ipykernel)",
   "language": "python",
   "name": "python3"
  },
  "language_info": {
   "codemirror_mode": {
    "name": "ipython",
    "version": 3
   },
   "file_extension": ".py",
   "mimetype": "text/x-python",
   "name": "python",
   "nbconvert_exporter": "python",
   "pygments_lexer": "ipython3",
   "version": "3.10.8"
  }
 },
 "nbformat": 4,
 "nbformat_minor": 5
}
